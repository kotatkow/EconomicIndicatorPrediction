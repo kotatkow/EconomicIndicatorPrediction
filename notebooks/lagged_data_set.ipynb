{
 "cells": [
  {
   "cell_type": "code",
   "execution_count": 8,
   "id": "d486888c-70c8-486f-aee8-5fc8d992fb7d",
   "metadata": {},
   "outputs": [
    {
     "data": {
      "text/plain": [
       "'C:/Users/ghkjs/OneDrive/바탕 화면/EconomicIndicatorPrediction/data/lagged_dataset\\\\lagged_scatter_plot.csv'"
      ]
     },
     "execution_count": 8,
     "metadata": {},
     "output_type": "execute_result"
    }
   ],
   "source": [
    "import os\n",
    "import pandas as pd\n",
    "\n",
    "# Load the provided preprocessed files\n",
    "unemployment_rate = pd.read_csv('C:/Users/ghkjs/OneDrive/바탕 화면/EconomicIndicatorPrediction/data/processed/preprocessed/Unemployment_Rate_data_preprocessed.csv')\n",
    "consumer_confidence = pd.read_csv('C:/Users/ghkjs/OneDrive/바탕 화면/EconomicIndicatorPrediction/data/processed/preprocessed/Consumer_Confidence_data_preprocessed.csv')\n",
    "cpi = pd.read_csv('C:/Users/ghkjs/OneDrive/바탕 화면/EconomicIndicatorPrediction/data/processed/preprocessed/CPI_data_preprocessed.csv')\n",
    "gdp_growth = pd.read_csv('C:/Users/ghkjs/OneDrive/바탕 화면/EconomicIndicatorPrediction/data/processed/preprocessed/GDP_Growth_data_preprocessed.csv')\n",
    "interest_rate = pd.read_csv('C:/Users/ghkjs/OneDrive/바탕 화면/EconomicIndicatorPrediction/data/processed/preprocessed/Interest_Rate_data_preprocessed.csv')\n",
    "money_supply = pd.read_csv('C:/Users/ghkjs/OneDrive/바탕 화면/EconomicIndicatorPrediction/data/processed/preprocessed/Money_Supply_data_preprocessed.csv')\n",
    "ppi = pd.read_csv('C:/Users/ghkjs/OneDrive/바탕 화면/EconomicIndicatorPrediction/data/processed/preprocessed/PPI_data_preprocessed.csv')\n",
    "\n",
    "# Merge all datasets\n",
    "merged_data = unemployment_rate.merge(consumer_confidence, on='Date') \\\n",
    "    .merge(cpi, on='Date') \\\n",
    "    .merge(gdp_growth, on='Date') \\\n",
    "    .merge(interest_rate, on='Date') \\\n",
    "    .merge(money_supply, on='Date') \\\n",
    "    .merge(ppi, on='Date')\n",
    "\n",
    "# Rename columns for readability\n",
    "merged_data.rename(columns={\n",
    "    'UNRATE': 'Unemployment_Rate',\n",
    "    'UMCSENT': 'Consumer_Confidence',\n",
    "    'CPIAUCSL': 'CPI',\n",
    "    'A191RL1Q225SBEA': 'GDP_Growth',\n",
    "    'FEDFUNDS': 'Interest_Rate',\n",
    "    'M2SL': 'Money_Supply',\n",
    "    'PPIACO': 'PPI'\n",
    "}, inplace=True)\n",
    "\n",
    "# Add lagged predictors\n",
    "merged_data['Interest_Rate_Lag3'] = merged_data['Interest_Rate'].shift(3)\n",
    "merged_data['Money_Supply_Lag1'] = merged_data['Money_Supply'].shift(1)\n",
    "merged_data['PPI_Lag2'] = merged_data['PPI'].shift(2)\n",
    "\n",
    "# Drop rows with missing values due to lags\n",
    "lagged_data = merged_data.dropna()\n",
    "\n",
    "# Save the new merged dataset to CSV\n",
    "output_path = 'C:/Users/ghkjs/OneDrive/바탕 화면/EconomicIndicatorPrediction/data/lagged_dataset'\n",
    "csv_save_path = os.path.join(output_path,'lagged_scatter_plot.csv')\n",
    "lagged_data.to_csv(csv_save_path, index=False)\n",
    "\n",
    "csv_save_path"
   ]
  },
  {
   "cell_type": "code",
   "execution_count": null,
   "id": "7c693533-068c-4ce0-b9ba-de0dcccf5b10",
   "metadata": {},
   "outputs": [],
   "source": []
  }
 ],
 "metadata": {
  "kernelspec": {
   "display_name": "Python 3 (ipykernel)",
   "language": "python",
   "name": "python3"
  },
  "language_info": {
   "codemirror_mode": {
    "name": "ipython",
    "version": 3
   },
   "file_extension": ".py",
   "mimetype": "text/x-python",
   "name": "python",
   "nbconvert_exporter": "python",
   "pygments_lexer": "ipython3",
   "version": "3.9.20"
  }
 },
 "nbformat": 4,
 "nbformat_minor": 5
}

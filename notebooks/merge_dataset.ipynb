{
 "cells": [
  {
   "cell_type": "code",
   "execution_count": 6,
   "id": "90a3e99b-84bb-4aca-bd6e-44bd94350b92",
   "metadata": {},
   "outputs": [
    {
     "data": {
      "text/plain": [
       "'../data/lagged_dataset'"
      ]
     },
     "execution_count": 6,
     "metadata": {},
     "output_type": "execute_result"
    }
   ],
   "source": [
    "import pandas as pd\n",
    "import os\n",
    "\n",
    "# Reload datasets (ensure alignment for merging with lagged predictors)\n",
    "# Load the provided preprocessed files\n",
    "unemployment_rate = pd.read_csv('C:/Users/ghkjs/OneDrive/바탕 화면/EconomicIndicatorPrediction/data/processed/preprocessed/Unemployment_Rate_data_preprocessed.csv')\n",
    "consumer_confidence = pd.read_csv('C:/Users/ghkjs/OneDrive/바탕 화면/EconomicIndicatorPrediction/data/processed/preprocessed/Consumer_Confidence_data_preprocessed.csv')\n",
    "cpi = pd.read_csv('C:/Users/ghkjs/OneDrive/바탕 화면/EconomicIndicatorPrediction/data/processed/preprocessed/CPI_data_preprocessed.csv')\n",
    "gdp_growth = pd.read_csv('C:/Users/ghkjs/OneDrive/바탕 화면/EconomicIndicatorPrediction/data/processed/preprocessed/GDP_Growth_data_preprocessed.csv')\n",
    "interest_rate = pd.read_csv('C:/Users/ghkjs/OneDrive/바탕 화면/EconomicIndicatorPrediction/data/processed/preprocessed/Interest_Rate_data_preprocessed.csv')\n",
    "money_supply = pd.read_csv('C:/Users/ghkjs/OneDrive/바탕 화면/EconomicIndicatorPrediction/data/processed/preprocessed/Money_Supply_data_preprocessed.csv')\n",
    "ppi = pd.read_csv('C:/Users/ghkjs/OneDrive/바탕 화면/EconomicIndicatorPrediction/data/processed/preprocessed/PPI_data_preprocessed.csv')\n",
    "\n",
    "# Convert 'Date' to datetime for all datasets\n",
    "datasets = [interest_rate, money_supply, ppi, cpi, unemployment_rate, gdp_growth, consumer_confidence]\n",
    "for df in datasets:\n",
    "    df['Date'] = pd.to_datetime(df['Date'])\n",
    "\n",
    "# Merge datasets on 'Date'\n",
    "merged = unemployment_rate.copy()\n",
    "merged = merged.merge(interest_rate, on='Date', how='inner', suffixes=('', '_int'))\n",
    "merged = merged.merge(money_supply, on='Date', how='inner', suffixes=('', '_money'))\n",
    "merged = merged.merge(ppi, on='Date', how='inner', suffixes=('', '_ppi'))\n",
    "merged = merged.merge(cpi, on='Date', how='inner', suffixes=('', '_cpi'))\n",
    "merged = merged.merge(gdp_growth, on='Date', how='inner', suffixes=('', '_gdp'))\n",
    "merged = merged.merge(consumer_confidence, on='Date', how='inner', suffixes=('', '_conf'))\n",
    "\n",
    "# Rename columns for clarity\n",
    "merged.columns = [\n",
    "    'Date', 'Unemployment_Rate', 'Interest_Rate', 'Money_Supply', 'PPI',\n",
    "    'CPI', 'GDP_Growth', 'Consumer_Confidence'\n",
    "]\n",
    "\n",
    "# Apply 12-month lag for Interest Rate, Money Supply, PPI, and CPI\n",
    "lag = 12\n",
    "merged['Interest_Rate_Lagged'] = merged['Interest_Rate'].shift(lag)\n",
    "merged['Money_Supply_Lagged'] = merged['Money_Supply'].shift(lag)\n",
    "merged['PPI_Lagged'] = merged['PPI'].shift(lag)\n",
    "merged['CPI_Lagged'] = merged['CPI'].shift(lag)\n",
    "\n",
    "# Drop rows with NaN values due to lagging\n",
    "merged_lagged = merged.dropna()\n",
    "\n",
    "# Save the resulting dataset for review\n",
    "output_file = '../data/lagged_dataset'\n",
    "save_path = os.path.join(output_file, 'lagged_dataset_merged.csv')\n",
    "merged_lagged.to_csv(save_path, index=False)\n",
    "output_file\n"
   ]
  },
  {
   "cell_type": "code",
   "execution_count": null,
   "id": "a3ad2009-cf46-4d32-8152-a1eee34dae20",
   "metadata": {},
   "outputs": [],
   "source": []
  }
 ],
 "metadata": {
  "kernelspec": {
   "display_name": "Python 3 (ipykernel)",
   "language": "python",
   "name": "python3"
  },
  "language_info": {
   "codemirror_mode": {
    "name": "ipython",
    "version": 3
   },
   "file_extension": ".py",
   "mimetype": "text/x-python",
   "name": "python",
   "nbconvert_exporter": "python",
   "pygments_lexer": "ipython3",
   "version": "3.9.20"
  }
 },
 "nbformat": 4,
 "nbformat_minor": 5
}

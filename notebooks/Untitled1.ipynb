{
 "cells": [
  {
   "cell_type": "code",
   "execution_count": null,
   "id": "7e69fb2d-c98b-401a-af2d-6e551d8989ac",
   "metadata": {},
   "outputs": [],
   "source": []
  }
 ],
 "metadata": {
  "kernelspec": {
   "display_name": "",
   "name": ""
  },
  "language_info": {
   "name": ""
  }
 },
 "nbformat": 4,
 "nbformat_minor": 5
}

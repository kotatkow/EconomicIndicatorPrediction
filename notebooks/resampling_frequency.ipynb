{
 "cells": [
  {
   "cell_type": "code",
   "execution_count": 15,
   "id": "7e69fb2d-c98b-401a-af2d-6e551d8989ac",
   "metadata": {},
   "outputs": [
    {
     "name": "stdout",
     "output_type": "stream",
     "text": [
      "   UMCSENT\n",
      "0    86.20\n",
      "1    87.70\n",
      "2    89.20\n",
      "3    90.70\n",
      "4    89.05\n",
      "   CPIAUCSL\n",
      "0     21.48\n",
      "1     21.62\n",
      "2     22.00\n",
      "3     22.00\n",
      "4     21.95\n",
      "   A191RL1Q225SBEA\n",
      "0             -1.0\n",
      "1             -0.8\n",
      "2              6.4\n",
      "3              6.2\n",
      "4              6.8\n",
      "   FEDFUNDS\n",
      "0      0.80\n",
      "1      1.22\n",
      "2      1.07\n",
      "3      0.85\n",
      "4      0.83\n",
      "    M2SL\n",
      "0  286.6\n",
      "1  287.7\n",
      "2  289.2\n",
      "3  290.1\n",
      "4  292.2\n",
      "   PPIACO\n",
      "0    12.1\n",
      "1    12.0\n",
      "2    12.0\n",
      "3    12.0\n",
      "4    11.9\n",
      "   UNRATE\n",
      "0     3.4\n",
      "1     3.8\n",
      "2     4.0\n",
      "3     3.9\n",
      "4     3.5\n"
     ]
    }
   ],
   "source": [
    "import sys\n",
    "import os\n",
    "import glob\n",
    "import pandas as pd\n",
    "\n",
    "# Define the path to your CSV directory\n",
    "src_path = os.path.join(os.getcwd(), '..', 'data', 'processed', 'FillingMissingValue')\n",
    "sys.path.append(src_path)\n",
    "\n",
    "# Get a list of all CSV files in the directory\n",
    "csv_files = glob.glob(os.path.join(src_path, '*.csv'))\n",
    "\n",
    "# Load each CSV file into a dictionary of DataFrames\n",
    "dataframes = {}\n",
    "for file in csv_files:\n",
    "    # Extract the filename without the directory and extension for the dictionary key\n",
    "    file_name = os.path.basename(file).split('.')[0]\n",
    "    \n",
    "    # Load the CSV into a DataFrame\n",
    "    dataframes[file_name] = pd.read_csv(file)\n",
    "    print(dataframes[file_name].head())"
   ]
  },
  {
   "cell_type": "code",
   "execution_count": null,
   "id": "c6a148ab-a0aa-4153-a1f6-af833e1eebca",
   "metadata": {},
   "outputs": [],
   "source": []
  }
 ],
 "metadata": {
  "kernelspec": {
   "display_name": "Python 3 (ipykernel)",
   "language": "python",
   "name": "python3"
  },
  "language_info": {
   "codemirror_mode": {
    "name": "ipython",
    "version": 3
   },
   "file_extension": ".py",
   "mimetype": "text/x-python",
   "name": "python",
   "nbconvert_exporter": "python",
   "pygments_lexer": "ipython3",
   "version": "3.9.20"
  }
 },
 "nbformat": 4,
 "nbformat_minor": 5
}

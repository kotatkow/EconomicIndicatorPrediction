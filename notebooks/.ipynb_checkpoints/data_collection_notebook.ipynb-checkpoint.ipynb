{
 "cells": [
  {
   "cell_type": "code",
   "execution_count": 4,
   "id": "92ecb895-b9b3-4acc-ae8e-614f1e220f83",
   "metadata": {},
   "outputs": [
    {
     "name": "stdout",
     "output_type": "stream",
     "text": [
      "            Unemployment_Rate  GDP_Growth  CPI  Interest_Rate  Money_Supply  \\\n",
      "1913-01-01                NaN         NaN  NaN            NaN           NaN   \n",
      "1913-02-01                NaN         NaN  NaN            NaN           NaN   \n",
      "1913-03-01                NaN         NaN  NaN            NaN           NaN   \n",
      "1913-04-01                NaN         NaN  NaN            NaN           NaN   \n",
      "1913-05-01                NaN         NaN  NaN            NaN           NaN   \n",
      "\n",
      "             PPI  Consumer_Confidence  \n",
      "1913-01-01  12.1                  NaN  \n",
      "1913-02-01  12.0                  NaN  \n",
      "1913-03-01  12.0                  NaN  \n",
      "1913-04-01  12.0                  NaN  \n",
      "1913-05-01  11.9                  NaN  \n"
     ]
    }
   ],
   "source": [
    "import sys\n",
    "import os\n",
    "\n",
    "# Add the 'src' directory to the Python path\n",
    "src_path = os.path.join(os.getcwd(), '..', 'src')\n",
    "sys.path.append(src_path)\n",
    "\n",
    "# Now you can import your function\n",
    "from data_collection import fetch_multiple_series\n",
    "\n",
    "# Define your FRED API key\n",
    "api_key = 'e916710d165717e6348556cdce8111f3'\n",
    "\n",
    "# Define the series IDs for the indicators you want to collect\n",
    "series_ids = {\n",
    "    'Unemployment_Rate': 'UNRATE',\n",
    "    'GDP_Growth': 'A191RL1Q225SBEA',\n",
    "    'CPI': 'CPIAUCSL',\n",
    "    'Interest_Rate': 'FEDFUNDS',\n",
    "    'Money_Supply': 'M2SL',\n",
    "    'PPI': 'PPIACO',\n",
    "    'Consumer_Confidence': 'UMCSENT'\n",
    "}\n",
    "\n",
    "# Fetch the data using the imported function\n",
    "data = fetch_multiple_series(series_ids, api_key)\n",
    "\n",
    "# Display the first few rows of the data\n",
    "print(data.head())"
   ]
  },
  {
   "cell_type": "code",
   "execution_count": null,
   "id": "3e398735-3ede-47ca-aab7-7b7503c78222",
   "metadata": {},
   "outputs": [],
   "source": []
  }
 ],
 "metadata": {
  "kernelspec": {
   "display_name": "Python 3 (ipykernel)",
   "language": "python",
   "name": "python3"
  },
  "language_info": {
   "codemirror_mode": {
    "name": "ipython",
    "version": 3
   },
   "file_extension": ".py",
   "mimetype": "text/x-python",
   "name": "python",
   "nbconvert_exporter": "python",
   "pygments_lexer": "ipython3",
   "version": "3.9.20"
  }
 },
 "nbformat": 4,
 "nbformat_minor": 5
}

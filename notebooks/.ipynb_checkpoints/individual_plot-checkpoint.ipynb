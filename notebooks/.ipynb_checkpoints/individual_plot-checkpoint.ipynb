{
 "cells": [
  {
   "cell_type": "code",
   "execution_count": 5,
   "id": "fb4e16e2-95ce-49b2-b14f-684a818fba16",
   "metadata": {},
   "outputs": [
    {
     "name": "stdout",
     "output_type": "stream",
     "text": [
      "Data saved to C:/Users/ghkjs/OneDrive/바탕 화면/EconomicIndicatorPrediction/docs\\Unemployment_Rate.csv\n",
      "Plot saved to C:/Users/ghkjs/OneDrive/바탕 화면/EconomicIndicatorPrediction/docs\\Unemployment_Rate.png\n",
      "Data saved to C:/Users/ghkjs/OneDrive/바탕 화면/EconomicIndicatorPrediction/docs\\GDP_Growth.csv\n",
      "Plot saved to C:/Users/ghkjs/OneDrive/바탕 화면/EconomicIndicatorPrediction/docs\\GDP_Growth.png\n",
      "Data saved to C:/Users/ghkjs/OneDrive/바탕 화면/EconomicIndicatorPrediction/docs\\CPI.csv\n",
      "Plot saved to C:/Users/ghkjs/OneDrive/바탕 화면/EconomicIndicatorPrediction/docs\\CPI.png\n",
      "Data saved to C:/Users/ghkjs/OneDrive/바탕 화면/EconomicIndicatorPrediction/docs\\Interest_Rate.csv\n",
      "Plot saved to C:/Users/ghkjs/OneDrive/바탕 화면/EconomicIndicatorPrediction/docs\\Interest_Rate.png\n",
      "Data saved to C:/Users/ghkjs/OneDrive/바탕 화면/EconomicIndicatorPrediction/docs\\Money_Supply.csv\n",
      "Plot saved to C:/Users/ghkjs/OneDrive/바탕 화면/EconomicIndicatorPrediction/docs\\Money_Supply.png\n",
      "Data saved to C:/Users/ghkjs/OneDrive/바탕 화면/EconomicIndicatorPrediction/docs\\PPI.csv\n",
      "Plot saved to C:/Users/ghkjs/OneDrive/바탕 화면/EconomicIndicatorPrediction/docs\\PPI.png\n",
      "Data saved to C:/Users/ghkjs/OneDrive/바탕 화면/EconomicIndicatorPrediction/docs\\Consumer_Confidence.csv\n",
      "Plot saved to C:/Users/ghkjs/OneDrive/바탕 화면/EconomicIndicatorPrediction/docs\\Consumer_Confidence.png\n"
     ]
    }
   ],
   "source": [
    "import sys\n",
    "import os\n",
    "import pandas as pd\n",
    "import matplotlib.pyplot as plt\n",
    "\n",
    "# Add the 'src' directory to the Python path\n",
    "src_path = os.path.join(os.getcwd(), '..', 'src')\n",
    "sys.path.append(src_path)\n",
    "\n",
    "# Now you can import your function\n",
    "from data_collection import fetch_data_from_fred\n",
    "\n",
    "# Define your FRED API key\n",
    "api_key = 'e916710d165717e6348556cdce8111f3'\n",
    "\n",
    "# Define the series IDs for the indicators you want to collect\n",
    "series_ids = {\n",
    "    'Unemployment_Rate': 'UNRATE',\n",
    "    'GDP_Growth': 'A191RL1Q225SBEA',\n",
    "    'CPI': 'CPIAUCSL',\n",
    "    'Interest_Rate': 'FEDFUNDS',\n",
    "    'Money_Supply': 'M2SL',\n",
    "    'PPI': 'PPIACO',\n",
    "    'Consumer_Confidence': 'UMCSENT'\n",
    "}\n",
    "\n",
    "# Define output directory for files\n",
    "output_dir = 'C:/Users/ghkjs/OneDrive/바탕 화면/EconomicIndicatorPrediction/docs'\n",
    "os.makedirs(output_dir, exist_ok=True)  # Ensure directory exists\n",
    "\n",
    "# Show plot for each data series and save as CSV and PNG files\n",
    "for name, series_id in series_ids.items():\n",
    "    # Fetch the data\n",
    "    data = fetch_data_from_fred(series_id, api_key)\n",
    "    \n",
    "    # Save data as CSV file\n",
    "    csv_file_path = os.path.join(output_dir, f'{name}.csv')\n",
    "    data.to_csv(csv_file_path, index=False)\n",
    "    print(f\"Data saved to {csv_file_path}\")\n",
    "\n",
    " # Plot and save each data series as a PNG\n",
    "    plt.figure(figsize=(10, 5))\n",
    "    plt.plot(data.index, data[series_id], label=name)\n",
    "    plt.xlabel('Date')\n",
    "    plt.ylabel(name)\n",
    "    plt.title(f'{name} Over Time')\n",
    "    plt.legend()\n",
    "    plt.grid(True)\n",
    "    plt.show()\n",
    "\n",
    "    # Save the plot as a PNG file\n",
    "    png_file_path = os.path.join(output_dir, f'{name}.png')\n",
    "    plt.savefig(png_file_path)\n",
    "    plt.close()\n",
    "    print(f\"Plot saved to {png_file_path}\")"
   ]
  },
  {
   "cell_type": "code",
   "execution_count": null,
   "id": "a8283b27-85b3-4ee2-8f54-f73123d4e125",
   "metadata": {},
   "outputs": [],
   "source": []
  }
 ],
 "metadata": {
  "kernelspec": {
   "display_name": "Python 3 (ipykernel)",
   "language": "python",
   "name": "python3"
  },
  "language_info": {
   "codemirror_mode": {
    "name": "ipython",
    "version": 3
   },
   "file_extension": ".py",
   "mimetype": "text/x-python",
   "name": "python",
   "nbconvert_exporter": "python",
   "pygments_lexer": "ipython3",
   "version": "3.9.20"
  }
 },
 "nbformat": 4,
 "nbformat_minor": 5
}

{
 "cells": [
  {
   "cell_type": "code",
   "execution_count": 3,
   "id": "7e69fb2d-c98b-401a-af2d-6e551d8989ac",
   "metadata": {},
   "outputs": [],
   "source": [
    "import sys\n",
    "import os\n",
    "import glob\n",
    "import pandas as pd\n",
    "\n",
    "# Define the path to your CSV directory\n",
    "src_path = os.path.join(os.getcwd(), '..', 'data', 'processed', 'FillingMissingValue')\n",
    "sys.path.append(src_path)\n",
    "\n",
    "# Get a list of all CSV files in the directory\n",
    "csv_files = glob.glob(os.path.join(src_path, '*.csv'))"
   ]
  },
  {
   "cell_type": "code",
   "execution_count": null,
   "id": "c6a148ab-a0aa-4153-a1f6-af833e1eebca",
   "metadata": {},
   "outputs": [],
   "source": []
  }
 ],
 "metadata": {
  "kernelspec": {
   "display_name": "Python 3 (ipykernel)",
   "language": "python",
   "name": "python3"
  },
  "language_info": {
   "codemirror_mode": {
    "name": "ipython",
    "version": 3
   },
   "file_extension": ".py",
   "mimetype": "text/x-python",
   "name": "python",
   "nbconvert_exporter": "python",
   "pygments_lexer": "ipython3",
   "version": "3.9.20"
  }
 },
 "nbformat": 4,
 "nbformat_minor": 5
}

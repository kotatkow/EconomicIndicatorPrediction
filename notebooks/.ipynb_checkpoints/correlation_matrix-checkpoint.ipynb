{
 "cells": [
  {
   "cell_type": "code",
   "execution_count": 5,
   "id": "a127d45b-3bee-40f5-8a0a-f6e98080ee9e",
   "metadata": {},
   "outputs": [],
   "source": [
    "import pandas as pd\n",
    "import seaborn as sns\n",
    "import matplotlib.pyplot as plt\n",
    "\n",
    "# load the data series\n",
    "consumer_confidence = pd.read_csv(\"../data/processed/preprocessed/Consumer_Confidence_data_preprocessed.csv\")\n",
    "cpi = pd.read_csv(\"../data/processed/preprocessed/CPI_data_preprocessed.csv\")\n",
    "gdp_growth = pd.read_csv(\"../data/processed/preprocessed/GDP_Growth_data_preprocessed.csv\")\n",
    "interest_rate = pd.read_csv(\"../data/processed/preprocessed/Interest_Rate_data_preprocessed.csv\")\n",
    "money_supply = pd.read_csv(\"../data/processed/preprocessed//Money_Supply_data_preprocessed.csv\")\n",
    "ppi = pd.read_csv(\"../data/processed/preprocessed/PPI_data_preprocessed.csv\")\n",
    "unemployment_rate = pd.read_csv(\"../data/processed/preprocessed/Unemployment_Rate_data_preprocessed.csv\")\n",
    "\n"
   ]
  },
  {
   "cell_type": "code",
   "execution_count": null,
   "id": "e9ec0895-79b7-4f97-a8fa-05f46ecf201c",
   "metadata": {},
   "outputs": [],
   "source": []
  }
 ],
 "metadata": {
  "kernelspec": {
   "display_name": "Python 3 (ipykernel)",
   "language": "python",
   "name": "python3"
  },
  "language_info": {
   "codemirror_mode": {
    "name": "ipython",
    "version": 3
   },
   "file_extension": ".py",
   "mimetype": "text/x-python",
   "name": "python",
   "nbconvert_exporter": "python",
   "pygments_lexer": "ipython3",
   "version": "3.9.20"
  }
 },
 "nbformat": 4,
 "nbformat_minor": 5
}

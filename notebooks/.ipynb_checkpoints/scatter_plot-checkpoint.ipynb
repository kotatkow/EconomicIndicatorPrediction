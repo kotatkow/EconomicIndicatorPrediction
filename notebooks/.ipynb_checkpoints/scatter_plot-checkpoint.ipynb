{
 "cells": [
  {
   "cell_type": "code",
   "execution_count": 5,
   "id": "43262e33-cfaf-47c3-b8e5-00e80600e37d",
   "metadata": {},
   "outputs": [],
   "source": [
    "import pandas as pd\n",
    "import matplotlib.pyplot as plt\n",
    "\n",
    "# Load the provided preprocessed files\n",
    "unemployment_rate = pd.read_csv('C:/Users/ghkjs/OneDrive/바탕 화면/EconomicIndicatorPrediction/data/processed/preprocessed/Unemployment_Rate_data_preprocessed.csv')\n",
    "consumer_confidence = pd.read_csv('C:/Users/ghkjs/OneDrive/바탕 화면/EconomicIndicatorPrediction/data/processed/preprocessed/Consumer_Confidence_data_preprocessed.csv')\n",
    "cpi = pd.read_csv('C:/Users/ghkjs/OneDrive/바탕 화면/EconomicIndicatorPrediction/data/processed/preprocessed/CPI_data_preprocessed.csv')\n",
    "gdp_growth = pd.read_csv('C:/Users/ghkjs/OneDrive/바탕 화면/EconomicIndicatorPrediction/data/processed/preprocessed/GDP_Growth_data_preprocessed.csv')\n",
    "interest_rate = pd.read_csv('C:/Users/ghkjs/OneDrive/바탕 화면/EconomicIndicatorPrediction/data/processed/preprocessed/Interest_Rate_data_preprocessed.csv')\n",
    "money_supply = pd.read_csv('C:/Users/ghkjs/OneDrive/바탕 화면/EconomicIndicatorPrediction/data/processed/preprocessed/Money_Supply_data_preprocessed.csv')\n",
    "ppi = pd.read_csv('C:/Users/ghkjs/OneDrive/바탕 화면/EconomicIndicatorPrediction/data/processed/preprocessed/PPI_data_preprocessed.csv')\n",
    "\n",
    "# Ensure the column names are consistent\n",
    "unemployment_rate.columns, consumer_confidence.columns, cpi.columns, gdp_growth.columns, interest_rate.columns, money_supply.columns, ppi.columns\n",
    "\n",
    "# Merge all dataframes on the 'Date' column\n",
    "merged_data = unemployment_rate.merge(consumer_confidence, on='Date') \\\n",
    "    .merge(cpi, on='Date') \\\n",
    "    .merge(gdp_growth, on='Date') \\\n",
    "    .merge(interest_rate, on='Date') \\\n",
    "    .merge(money_supply, on='Date') \\\n",
    "    .merge(ppi, on='Date')\n",
    "\n",
    "# Rename columns for easier readability\n",
    "merged_data.rename(columns={\n",
    "    'UNRATE': 'Unemployment_Rate',\n",
    "    'UMCSENT': 'Consumer_Confidence',\n",
    "    'CPIAUCSL': 'CPI',\n",
    "    'A191RL1Q225SBEA': 'GDP_Growth',\n",
    "    'FEDFUNDS': 'Interest_Rate',\n",
    "    'M2SL': 'Money_Supply',\n",
    "    'PPIACO': 'PPI'\n",
    "}, inplace=True)\n",
    "\n",
    "# Create scatter plots for each predictor against Unemployment Rate\n",
    "predictors = ['Consumer_Confidence', 'CPI', 'GDP_Growth', 'Interest_Rate', 'Money_Supply', 'PPI']\n",
    "fig, axes = plt.subplots(nrows=2, ncols=3, figsize=(15, 10))\n",
    "axes = axes.flatten()\n",
    "\n",
    "for i, predictor in enumerate(predictors):\n",
    "    axes[i].scatter(merged_data[predictor], merged_data['Unemployment_Rate'], alpha=0.7)\n",
    "    axes[i].set_title(f'{predictor} vs Unemployment Rate')\n",
    "    axes[i].set_xlabel(predictor)\n",
    "    axes[i].set_ylabel('Unemployment Rate')\n",
    "\n",
    "plt.tight_layout()\n",
    "plt.show()"
   ]
  },
  {
   "cell_type": "code",
   "execution_count": null,
   "id": "862a0627-f6b9-49c1-bc4e-736aa310cb4f",
   "metadata": {},
   "outputs": [],
   "source": []
  }
 ],
 "metadata": {
  "kernelspec": {
   "display_name": "Python 3 (ipykernel)",
   "language": "python",
   "name": "python3"
  },
  "language_info": {
   "codemirror_mode": {
    "name": "ipython",
    "version": 3
   },
   "file_extension": ".py",
   "mimetype": "text/x-python",
   "name": "python",
   "nbconvert_exporter": "python",
   "pygments_lexer": "ipython3",
   "version": "3.9.20"
  }
 },
 "nbformat": 4,
 "nbformat_minor": 5
}

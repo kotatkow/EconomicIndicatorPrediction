{
 "cells": [
  {
   "cell_type": "code",
   "execution_count": null,
   "id": "180af1fb-9d35-43c8-a088-2cdc64fd5b5c",
   "metadata": {},
   "outputs": [],
   "source": [
    "import matplotlib.pyplot as plt\n",
    "import numpy as np\n",
    "\n",
    "# Visualize feature importance (coefficients)\n",
    "features = ['Interest Rate Lagged', 'Money Supply Lagged', 'PPI Lagged', \n",
    "            'CPI Lagged', 'GDP Growth', 'Consumer Confidence']\n",
    "coefficients = model.coef_\n",
    "\n",
    "plt.figure(figsize=(10, 6))\n",
    "plt.barh(features, coefficients, color='skyblue')\n",
    "plt.title(\"Feature Importance (Linear Regression Coefficients)\")\n",
    "plt.xlabel(\"Coefficient Value\")\n",
    "plt.ylabel(\"Features\")\n",
    "plt.grid(axis='x', linestyle='--', alpha=0.7)\n",
    "plt.show()\n",
    "\n",
    "# Calculate and visualize residuals\n",
    "residuals = y_test - y_pred\n",
    "\n",
    "plt.figure(figsize=(10, 6))\n",
    "plt.scatter(y_test, residuals, color='orange', alpha=0.7)\n",
    "plt.axhline(0, color='black', linestyle='--', linewidth=1)\n",
    "plt.title(\"Residuals of Linear Regression Model\")\n",
    "plt.xlabel(\"Actual Unemployment Rate\")\n",
    "plt.ylabel(\"Residuals\")\n",
    "plt.grid(True)\n",
    "plt.show()\n"
   ]
  }
 ],
 "metadata": {
  "kernelspec": {
   "display_name": "Python 3 (ipykernel)",
   "language": "python",
   "name": "python3"
  },
  "language_info": {
   "codemirror_mode": {
    "name": "ipython",
    "version": 3
   },
   "file_extension": ".py",
   "mimetype": "text/x-python",
   "name": "python",
   "nbconvert_exporter": "python",
   "pygments_lexer": "ipython3",
   "version": "3.9.20"
  }
 },
 "nbformat": 4,
 "nbformat_minor": 5
}

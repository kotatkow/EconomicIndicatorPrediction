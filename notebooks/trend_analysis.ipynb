{
 "cells": [
  {
   "cell_type": "code",
   "execution_count": 10,
   "id": "425e4d96-61cf-4d5c-9376-cf2a5db5b787",
   "metadata": {},
   "outputs": [
    {
     "name": "stdout",
     "output_type": "stream",
     "text": [
      "<class 'pandas.core.frame.DataFrame'>\n",
      "RangeIndex: 922 entries, 0 to 921\n",
      "Data columns (total 2 columns):\n",
      " #   Column  Non-Null Count  Dtype  \n",
      "---  ------  --------------  -----  \n",
      " 0   Date    922 non-null    object \n",
      " 1   UNRATE  922 non-null    float64\n",
      "dtypes: float64(1), object(1)\n",
      "memory usage: 14.5+ KB\n"
     ]
    },
    {
     "data": {
      "text/plain": [
       "(         Date  UNRATE\n",
       " 0  1948-01-01     3.4\n",
       " 1  1948-02-01     3.8\n",
       " 2  1948-03-01     4.0\n",
       " 3  1948-04-01     3.9\n",
       " 4  1948-05-01     3.5,\n",
       " None)"
      ]
     },
     "execution_count": 10,
     "metadata": {},
     "output_type": "execute_result"
    }
   ],
   "source": [
    "import matplotlib.pyplot as plt\n",
    "import statsmodels.api as sm\n",
    "import pandas as pd\n",
    "import matplotlib.pyplot as plt\n",
    "\n",
    "\n",
    "# Load the user's data to check the structure and proceed with the analysis\n",
    "file_path = '../data/raw/Unemployment_Rate.csv'\n",
    "unemployment_data = pd.read_csv(file_path)\n",
    "\n",
    "# Display the first few rows and columns info to understand the data\n",
    "unemployment_data.head(), unemployment_data.info()\n",
    "\n"
   ]
  },
  {
   "cell_type": "code",
   "execution_count": null,
   "id": "0a3710f6-138c-4283-a4b1-97bb6820a2fb",
   "metadata": {},
   "outputs": [],
   "source": []
  }
 ],
 "metadata": {
  "kernelspec": {
   "display_name": "Python 3 (ipykernel)",
   "language": "python",
   "name": "python3"
  },
  "language_info": {
   "codemirror_mode": {
    "name": "ipython",
    "version": 3
   },
   "file_extension": ".py",
   "mimetype": "text/x-python",
   "name": "python",
   "nbconvert_exporter": "python",
   "pygments_lexer": "ipython3",
   "version": "3.9.20"
  }
 },
 "nbformat": 4,
 "nbformat_minor": 5
}

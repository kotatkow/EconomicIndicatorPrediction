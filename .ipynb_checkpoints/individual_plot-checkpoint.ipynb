{
 "cells": [
  {
   "cell_type": "code",
   "execution_count": 1,
   "id": "fb4e16e2-95ce-49b2-b14f-684a818fba16",
   "metadata": {},
   "outputs": [
    {
     "ename": "ModuleNotFoundError",
     "evalue": "No module named 'data_collection'",
     "output_type": "error",
     "traceback": [
      "\u001b[1;31m---------------------------------------------------------------------------\u001b[0m",
      "\u001b[1;31mModuleNotFoundError\u001b[0m                       Traceback (most recent call last)",
      "Cell \u001b[1;32mIn[1], line 10\u001b[0m\n\u001b[0;32m      7\u001b[0m sys\u001b[38;5;241m.\u001b[39mpath\u001b[38;5;241m.\u001b[39mappend(src_path)\n\u001b[0;32m      9\u001b[0m \u001b[38;5;66;03m# Now you can import your function\u001b[39;00m\n\u001b[1;32m---> 10\u001b[0m \u001b[38;5;28;01mfrom\u001b[39;00m \u001b[38;5;21;01mdata_collection\u001b[39;00m \u001b[38;5;28;01mimport\u001b[39;00m fetch_data_from_fred\n\u001b[0;32m     12\u001b[0m \u001b[38;5;66;03m# Define your FRED API key\u001b[39;00m\n\u001b[0;32m     13\u001b[0m api_key \u001b[38;5;241m=\u001b[39m \u001b[38;5;124m'\u001b[39m\u001b[38;5;124me916710d165717e6348556cdce8111f3\u001b[39m\u001b[38;5;124m'\u001b[39m\n",
      "\u001b[1;31mModuleNotFoundError\u001b[0m: No module named 'data_collection'"
     ]
    }
   ],
   "source": [
    "import sys\n",
    "import os\n",
    "import pandas as pd\n",
    "\n",
    "# Add the 'src' directory to the Python path\n",
    "src_path = os.path.join(os.getcwd(), '..', 'src')\n",
    "sys.path.append(src_path)\n",
    "\n",
    "# Now you can import your function\n",
    "from data_collection import fetch_data_from_fred\n",
    "\n",
    "# Define your FRED API key\n",
    "api_key = 'e916710d165717e6348556cdce8111f3'\n",
    "\n",
    "# Define the series IDs for the indicators you want to collect\n",
    "series_ids = {\n",
    "    'Unemployment_Rate': 'UNRATE',\n",
    "    'GDP_Growth': 'A191RL1Q225SBEA',\n",
    "    'CPI': 'CPIAUCSL',\n",
    "    'Interest_Rate': 'FEDFUNDS',\n",
    "    'Money_Supply': 'M2SL',\n",
    "    'PPI': 'PPIACO',\n",
    "    'Consumer_Confidence': 'UMCSENT'\n",
    "}\n",
    "\n",
    "output_dir='C:/Users/ghkjs/OneDrive/바탕 화면/EconomicIndicatorPrediction/docs'\n",
    "\n",
    "\n",
    "\n",
    "#show plot for each data series and save them as png file format\n",
    "for series_id in series_ids.items():\n",
    "    data=fetch_data_from_fred(series_id, api_key)\n",
    "    csv_file_path=os.path.join(output_dir,f'{series_id}.csv')\n",
    "    data.to_csv(csv_file_path, index=false)\n",
    "    print(f\"Data saved to {csv_file_path}\")\n",
    "    \n",
    "    \n",
    "\n"
   ]
  },
  {
   "cell_type": "code",
   "execution_count": null,
   "id": "c3d0df40-b96a-444e-9057-0e5f99ce0060",
   "metadata": {},
   "outputs": [],
   "source": []
  }
 ],
 "metadata": {
  "kernelspec": {
   "display_name": "Python 3 (ipykernel)",
   "language": "python",
   "name": "python3"
  },
  "language_info": {
   "codemirror_mode": {
    "name": "ipython",
    "version": 3
   },
   "file_extension": ".py",
   "mimetype": "text/x-python",
   "name": "python",
   "nbconvert_exporter": "python",
   "pygments_lexer": "ipython3",
   "version": "3.9.20"
  }
 },
 "nbformat": 4,
 "nbformat_minor": 5
}
